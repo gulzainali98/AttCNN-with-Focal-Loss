{
 "cells": [
  {
   "cell_type": "code",
   "execution_count": null,
   "metadata": {
    "collapsed": true
   },
   "outputs": [],
   "source": [
    "import keras\n",
    "import tensorflow as tf\n",
    "from keras.datasets import mnist\n",
    "from keras.models import Sequential\n",
    "from keras.layers import Dense, Dropout, Flatten\n",
    "from keras.layers import Conv2D, MaxPooling2D,BatchNormalization\n",
    "import cv2\n",
    "import csv\n",
    "from keras import backend as K\n",
    "import numpy as np\n",
    "import os\n",
    "from keras.callbacks import ModelCheckpoint\n",
    "K.set_image_dim_ordering('tf')\n",
    "os.environ['KERAS_BACKEND'] = \"tensorflow\"\n",
    "print K.backend()\n"
   ]
  },
  {
   "cell_type": "code",
   "execution_count": null,
   "metadata": {
    "collapsed": true
   },
   "outputs": [],
   "source": [
    "#Data Loading\n",
    "\n",
    "img_path=[]\n",
    "featureArray = []\n",
    "labelArray=[]\n",
    "\n",
    "img_path_test=[]\n",
    "labelArray_test=[]\n",
    "with open(\"list_attr_celeba.csv\", \"r\") as ins:\n",
    "    csv_reader = csv.reader(ins, delimiter=',')\n",
    "    counter=0\n",
    "    exitcounter=60\n",
    "    noteCounter=1\n",
    "    testCounter=30\n",
    "    imgtolabel={}\n",
    "    imgtolabel_test={}\n",
    "    for row in csv_reader:\n",
    "        if(counter==0):\n",
    "            featureArray=row[1:]\n",
    "        if(counter >= noteCounter):\n",
    "            \n",
    "            if(counter<testCounter):\n",
    "                img_path.append(row[0])\n",
    "                array=[]\n",
    "                for x in row[1:]:\n",
    "                    if(x=='1'):\n",
    "                        array.append(1)\n",
    "                    else:\n",
    "                        array.append(0)\n",
    "                imgtolabel[row[0]]=array\n",
    "                labelArray.append(array)\n",
    "                \n",
    "            else:\n",
    "                array=[]\n",
    "                for x in row[1:]:\n",
    "                    if(x=='1'):\n",
    "                        array.append(1)\n",
    "                    else:\n",
    "                        array.append(0)\n",
    "                img_path_test.append(row[0])\n",
    "                labelArray_test.append(array)\n",
    "                imgtolabel_test[row[0]]=array\n",
    "        counter += 1\n",
    "\n",
    "labelArray=np.array(labelArray)\n",
    "labelArray_test=np.array(labelArray_test)\n"
   ]
  },
  {
   "cell_type": "code",
   "execution_count": null,
   "metadata": {
    "collapsed": true,
    "scrolled": false
   },
   "outputs": [],
   "source": [
    "batch_size = 20\n",
    "num_classes = 40\n",
    "epochs = 12\n",
    "feature_shape=(227,227,1)"
   ]
  },
  {
   "cell_type": "code",
   "execution_count": null,
   "metadata": {
    "collapsed": true
   },
   "outputs": [],
   "source": [
    "def get_output(path,label_file=None):\n",
    "    \n",
    "   \n",
    "    labels = label_file[path]\n",
    "    \n",
    "    return(labels)"
   ]
  },
  {
   "cell_type": "code",
   "execution_count": null,
   "metadata": {
    "collapsed": true
   },
   "outputs": [],
   "source": [
    "def preprocess_input(image):\n",
    "    #resize image\n",
    "    newimg = cv2.resize(image,(227,227))\n",
    "    return(newimg)"
   ]
  },
  {
   "cell_type": "code",
   "execution_count": null,
   "metadata": {
    "collapsed": true
   },
   "outputs": [],
   "source": [
    "def get_input(path):\n",
    "    path=\"/img_align_celeba/\"+path\n",
    "    img = cv2.imread(path,0)\n",
    "    \n",
    "    \n",
    "    return(img)"
   ]
  },
  {
   "cell_type": "code",
   "execution_count": null,
   "metadata": {
    "collapsed": true
   },
   "outputs": [],
   "source": [
    "\n",
    "def focal_loss_fixed(y_true, y_pred):\n",
    "    gamma=2.\n",
    "    alpha=.25\n",
    "    pt_1 = tf.where(tf.equal(y_true, 1), y_pred, tf.ones_like(y_pred))\n",
    "    pt_0 = tf.where(tf.equal(y_true, 0), y_pred, tf.zeros_like(y_pred))\n",
    "    return -K.sum(alpha * K.pow(1. - pt_1, gamma) * K.log(K.epsilon()+pt_1))-K.sum((1-alpha) * K.pow( pt_0, gamma) * K.log(1. - pt_0 + K.epsilon()))\n",
    "#     return -K.sum(alpha * K.pow(1. - pt_1, gamma) * K.log(pt_1))-K.sum((1-alpha) * K.pow( pt_0, gamma) * K.log(1. - pt_0))"
   ]
  },
  {
   "cell_type": "code",
   "execution_count": null,
   "metadata": {
    "collapsed": true
   },
   "outputs": [],
   "source": [
    "def image_generator(files,label_file, batch_size = 80):\n",
    "    \n",
    "    while True:\n",
    "          # Select files (paths/indices) for the batch\n",
    "        batch_paths = np.random.choice(a = files, \n",
    "                                         size = batch_size)\n",
    "        batch_input = []\n",
    "        batch_output = [] \n",
    "\n",
    "          \n",
    "          # Read in each input, perform preprocessing and get labels\n",
    "        for input_path in batch_paths:\n",
    "            input = get_input(input_path )\n",
    "            output = get_output(input_path,label_file=label_file )\n",
    "            \n",
    "            input = preprocess_input(image=input)\n",
    "            batch_input += [ input ]\n",
    "            batch_output += [ output ]\n",
    "          # Return a tuple of (input,output) to feed the network\n",
    "        batch_x = np.array( batch_input )\n",
    "        batch_x= batch_x.reshape(batch_size,227,227,1)\n",
    "        batch_y = np.array( batch_output )\n",
    "       \n",
    "        \n",
    "        yield( batch_x, batch_y )"
   ]
  },
  {
   "cell_type": "code",
   "execution_count": null,
   "metadata": {
    "collapsed": true
   },
   "outputs": [],
   "source": [
    "model = Sequential()\n",
    "#convulution 1\n",
    "\n",
    "model.add(Conv2D(75,kernel_size=(7,7),strides=4,data_format='channels_last',activation='relu', input_shape=feature_shape))\n",
    "model.add(MaxPooling2D(pool_size=(3, 3),strides=2))\n",
    "model.add(BatchNormalization())\n",
    "\n",
    "\n",
    "\n",
    "#convolution 2\n",
    "\n",
    "model.add(Conv2D(200,kernel_size=(5,5),activation='relu'))\n",
    "model.add(MaxPooling2D(pool_size=(3, 3),strides=2))\n",
    "model.add(BatchNormalization())\n",
    "\n",
    "#convolution 3\n",
    "model.add(Conv2D(300,kernel_size=(3,3),activation='relu'))\n",
    "model.add(MaxPooling2D(pool_size=(5, 5),strides=2))\n",
    "model.add(BatchNormalization())\n",
    "\n",
    "#flattening\n",
    "model.add(Flatten())\n",
    "#FC1\n",
    "model.add(Dense(512, activation='relu'))\n",
    "model.add(Dropout(0.5))\n",
    "\n",
    "#FC2\n",
    "model.add(Dense(512, activation='relu'))\n",
    "model.add(Dropout(0.5))\n",
    "\n",
    "#FC3\n",
    "model.add(Dense(num_classes, activation='relu'))\n",
    "\n",
    "print model.summary()\n"
   ]
  },
  {
   "cell_type": "code",
   "execution_count": null,
   "metadata": {
    "collapsed": true,
    "scrolled": true
   },
   "outputs": [],
   "source": [
    "# fitting generator\n",
    "filepath = \"model.h5\"\n",
    "checkpoint = ModelCheckpoint(filepath, monitor='loss', verbose=1, save_best_only=True, mode='min')\n",
    "callbacks_list = [checkpoint]\n",
    "\n",
    "\n",
    "model.compile(loss=focal_loss_fixed,\n",
    "              optimizer=keras.optimizers.Adadelta(),\n",
    "              metrics=['accuracy'])\n",
    "model.fit_generator(image_generator(img_path,imgtolabel, batch_size = 20),callbacks=callbacks_list,samples_per_epoch=50, nb_epoch=10)\n",
    "model.save_weights('weights.h5')\n"
   ]
  },
  {
   "cell_type": "code",
   "execution_count": null,
   "metadata": {
    "collapsed": true
   },
   "outputs": [],
   "source": []
  },
  {
   "cell_type": "code",
   "execution_count": null,
   "metadata": {
    "collapsed": true
   },
   "outputs": [],
   "source": []
  }
 ],
 "metadata": {
  "kernelspec": {
   "display_name": "Python 2",
   "language": "python",
   "name": "python2"
  },
  "language_info": {
   "codemirror_mode": {
    "name": "ipython",
    "version": 2
   },
   "file_extension": ".py",
   "mimetype": "text/x-python",
   "name": "python",
   "nbconvert_exporter": "python",
   "pygments_lexer": "ipython2",
   "version": "2.7.13"
  }
 },
 "nbformat": 4,
 "nbformat_minor": 2
}
